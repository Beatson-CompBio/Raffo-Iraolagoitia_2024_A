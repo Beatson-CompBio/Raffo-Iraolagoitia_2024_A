{
 "cells": [
  {
   "cell_type": "markdown",
   "id": "3269fa8a-14c4-4cb6-b098-4e17a7f0e8d0",
   "metadata": {},
   "source": [
    "# Image sort by well and region\n",
    "\n",
    "--- \n",
    "Author: Ryan Corbyn  \n",
    "Date: 15/11/2023  \n",
    "\n",
    "---\n",
    "\n",
    "Lots of the images from the Incucytes are exported as a big block of images and are not split up to keep images from different wells and regions separate. \n",
    "As a result, the aim of this script is to generate a folder structure in the following: \n",
    "1) Parent folder for all images. \n",
    "2) Sub folders with the Well name. \n",
    "3) Regions for each well. \n",
    "\n",
    "The aim is to read the image file name, and determine where the image was taken from.  \n",
    "The above folder chain will then be made and the image *moved* to the correct folder location. "
   ]
  },
  {
   "cell_type": "markdown",
   "id": "453da158-eb77-473a-8956-ff3f1b998c53",
   "metadata": {},
   "source": [
    "---\n",
    "### Load in dependancies"
   ]
  },
  {
   "cell_type": "code",
   "execution_count": null,
   "id": "389c21d7-ddf1-45a3-896a-76f5f1f8603d",
   "metadata": {
    "tags": []
   },
   "outputs": [],
   "source": [
    "import tifffile as tf \n",
    "import numpy as np \n",
    "import pandas as pd \n",
    "import os\n",
    "\n",
    "import tkinter as tk\n",
    "from tkinter import filedialog"
   ]
  },
  {
   "cell_type": "markdown",
   "id": "196c3fe2-43a8-4f95-8818-0fc96a1213f7",
   "metadata": {},
   "source": [
    "----\n",
    "### Get the image file folder"
   ]
  },
  {
   "cell_type": "code",
   "execution_count": null,
   "id": "5e33e055-e06d-4f4d-b61b-a3f2d42d51c4",
   "metadata": {
    "tags": []
   },
   "outputs": [],
   "source": [
    "root = tk.Tk()\n",
    "root.withdraw() # Stops a second window opening\n",
    "image_folder = filedialog.askdirectory(title = 'Select image Folder')\n",
    "print(image_folder)"
   ]
  },
  {
   "cell_type": "markdown",
   "id": "1b94254d-5fd2-4365-9f09-114ea33782a6",
   "metadata": {},
   "source": [
    "---\n",
    "### Getting the file names from the folder"
   ]
  },
  {
   "cell_type": "code",
   "execution_count": null,
   "id": "79198945-010b-4cc8-b8fa-393fa59da664",
   "metadata": {
    "tags": []
   },
   "outputs": [],
   "source": [
    "def get_files_from_folder(folder_path): \n",
    "    '''A method to extract all files from the image.'''\n",
    "\n",
    "    file_list = os.listdir(folder_path)\n",
    "    image_files = []\n",
    "    \n",
    "    for i in range( len(file_list) ): \n",
    "        if file_list[i][-4:] == '.tif' or file_list[i][-4:] == '.png':\n",
    "            image_files.append(file_list[i])\n",
    "        \n",
    "    return(image_files)"
   ]
  },
  {
   "cell_type": "markdown",
   "id": "ba2de032-c23f-4070-a002-11ace5eacc8f",
   "metadata": {},
   "source": [
    "---- \n",
    "###  Create a folder for the well and region if they don't already exist. "
   ]
  },
  {
   "cell_type": "code",
   "execution_count": null,
   "id": "4e16a67a-d31b-44a1-966a-d3756fbb7a1f",
   "metadata": {
    "tags": []
   },
   "outputs": [],
   "source": [
    "def create_folders(folder, experiment_name, plate, well_name, region_number): \n",
    "    '''Method used to check if a folder for the plate well and\n",
    "    image region exists, and if not, create it.'''\n",
    "    \n",
    "    exp_folder = folder + '/' + experiment_name\n",
    "    if os.path.exists(exp_folder) == False: \n",
    "        os.makedirs(exp_folder)\n",
    "    \n",
    "    plate_folder = exp_folder + '/' + plate\n",
    "    \n",
    "    if os.path.exists(plate_folder) == False: \n",
    "        os.makedirs(plate_folder)\n",
    "        \n",
    "    well_folder = plate_folder + '/' + well_name\n",
    "    \n",
    "    if os.path.exists(well_folder) == False: \n",
    "        os.makedirs(well_folder)\n",
    "        \n",
    "    image_region_folder = well_folder + '/' + region_number\n",
    "        \n",
    "    if os.path.exists(image_region_folder) == False: \n",
    "        os.makedirs(image_region_folder)\n",
    "\n",
    "    return(1)\n",
    "    "
   ]
  },
  {
   "cell_type": "markdown",
   "id": "aa092f45-ba12-41bc-9c7d-e6f5bb754e2f",
   "metadata": {},
   "source": [
    "---- \n",
    "### Code Starts here"
   ]
  },
  {
   "cell_type": "code",
   "execution_count": null,
   "id": "54230a04-dfc6-41c1-bb8d-8313d4505259",
   "metadata": {
    "tags": []
   },
   "outputs": [],
   "source": [
    "files = get_files_from_folder(image_folder)\n",
    "print( len(files) )\n",
    "\n",
    "for i in range( len(files) ): \n",
    "    file = files[i]\n",
    "    # Find the separators in the file name. \n",
    "    # Find start of well name\n",
    "    first_dash = file.rfind('_')\n",
    "    # Find end of well name and start of region\n",
    "    second_dash = file[0:first_dash].rfind('_')\n",
    "    # Find the region name end. \n",
    "    third_dash = file[0:second_dash].rfind('_')\n",
    "    fouth_dash = file[0:third_dash].rfind('_')\n",
    "    fifth_dash = file[0:fouth_dash].rfind('_')\n",
    "\n",
    "    experiment_name = file[0:fifth_dash]\n",
    "    image_channel = file[fifth_dash+1:fouth_dash]\n",
    "    well = file[fouth_dash+1:third_dash]\n",
    "    region = file[third_dash+1:second_dash]\n",
    "    \n",
    "    # Create the folder structure to store the images. \n",
    "    create_folders(image_folder, experiment_name, well, region, image_channel)\n",
    "    \n",
    "    # Sort the image files into the correct folder. \n",
    "    os.rename(image_folder + '/' + file, \n",
    "              image_folder + '/' + experiment_name + '/' +\n",
    "              well + '/' + region + '/' + image_channel + '/' +file)    "
   ]
  },
  {
   "cell_type": "code",
   "execution_count": null,
   "id": "15703c94-8e1d-4829-a71e-aed5cf29f0a2",
   "metadata": {},
   "outputs": [],
   "source": []
  }
 ],
 "metadata": {
  "kernelspec": {
   "display_name": "Python 3 (ipykernel)",
   "language": "python",
   "name": "python3"
  },
  "language_info": {
   "codemirror_mode": {
    "name": "ipython",
    "version": 3
   },
   "file_extension": ".py",
   "mimetype": "text/x-python",
   "name": "python",
   "nbconvert_exporter": "python",
   "pygments_lexer": "ipython3",
   "version": "3.12.4"
  }
 },
 "nbformat": 4,
 "nbformat_minor": 5
}
