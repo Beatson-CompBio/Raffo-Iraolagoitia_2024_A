{
 "cells": [
  {
   "cell_type": "markdown",
   "id": "2bda2b6b-3f57-4459-94a6-7f0212942475",
   "metadata": {},
   "source": [
    "# Get Training Images\n",
    "\n",
    "This is a script that is designed to takes 100 x 100 pixel squares from a frame in the image stack. I then pad the image with 2 pixles worth of black and save the image as a tif.   \n",
    "I'm looking to get 3-5 images from each of the images in the training set. "
   ]
  },
  {
   "cell_type": "markdown",
   "id": "26c30fa6-c9cc-4ea0-8ff4-629ecfcd828a",
   "metadata": {},
   "source": [
    "### Import Dependancies"
   ]
  },
  {
   "cell_type": "code",
   "execution_count": 1,
   "id": "847b941f-9929-4e8d-b8f2-b59204cde198",
   "metadata": {
    "tags": []
   },
   "outputs": [],
   "source": [
    "import tifffile as tf \n",
    "import numpy as np \n",
    "\n",
    "import tkinter as tk\n",
    "from tkinter import filedialog\n",
    "\n",
    "import os\n",
    "import matplotlib.pyplot as plot"
   ]
  },
  {
   "cell_type": "markdown",
   "id": "9f0d8218-522e-4bec-879f-a786d4e7c351",
   "metadata": {},
   "source": [
    "### Get the folder location for the images. "
   ]
  },
  {
   "cell_type": "code",
   "execution_count": 2,
   "id": "04424fb7-8145-40f2-b7b2-aa9581a5086e",
   "metadata": {
    "tags": []
   },
   "outputs": [
    {
     "name": "stdout",
     "output_type": "stream",
     "text": [
      "//data.beatson.gla.ac.uk/data/RCORBYN/User_Data/20240108_Ximena_cell_tracking/incucyte/Testing/Test 4/Dataset\n"
     ]
    }
   ],
   "source": [
    "# Generate a file dialogue box to select folder \n",
    "# containing the images to analyse. \n",
    "root = tk.Tk()\n",
    "root.attributes(\"-topmost\", True)\n",
    "root.withdraw() # Stops a second window opening\n",
    "images_folder = filedialog.askdirectory(title = 'Select image Folder')\n",
    "\n",
    "print(images_folder)"
   ]
  },
  {
   "cell_type": "markdown",
   "id": "24069cc7-0a01-4f27-8fbb-56a50358e04b",
   "metadata": {},
   "source": [
    "### Get the image Folders "
   ]
  },
  {
   "cell_type": "raw",
   "id": "fc99efce-b889-43c2-98a2-09399058c9f8",
   "metadata": {
    "tags": []
   },
   "source": [
    "def find_image_folders(directory):\n",
    "    '''Enter the folder directory and select only the sub-folders that\n",
    "    contain the images for analysis. '''\n",
    "    \n",
    "    # Initalise. \n",
    "    found_directories = []\n",
    "    \n",
    "    # Loop through all folders and files in the directory \n",
    "    for roots, directories, files in os.walk(directory):\n",
    "        # For all subfolders. \n",
    "        for j in range( len(directories)):\n",
    "            # Save the sub-folder paths with the images within them. \n",
    "            if directories[j].find('Colour') != -1: \n",
    "                found_directories.append(roots + '/' + directories[j])\n",
    "\n",
    "    return(found_directories)"
   ]
  },
  {
   "cell_type": "code",
   "execution_count": null,
   "id": "f5c4bf8a-b59d-42e0-8138-3fea420924c2",
   "metadata": {},
   "outputs": [],
   "source": []
  },
  {
   "cell_type": "code",
   "execution_count": 4,
   "id": "6a06b73e-46b3-434b-898b-b5ae56484984",
   "metadata": {
    "tags": []
   },
   "outputs": [],
   "source": [
    "def find_image_files(directory):\n",
    "    '''Enter the folder directory and select only the sub-folders that\n",
    "    contain the images for analysis. '''\n",
    "    \n",
    "    # Initalise. \n",
    "    found_images = []\n",
    "    \n",
    "    # Loop through all folders and files in the directory \n",
    "    for roots, directories, files in os.walk(directory):\n",
    "        # For all subfolders. \n",
    "        for j in range( len(files)):\n",
    "            # Save the sub-folder paths with the images within them. \n",
    "            if files[j].find('C2') != -1: \n",
    "                found_images.append(roots + '/' + files[j])\n",
    "\n",
    "    return(found_images)"
   ]
  },
  {
   "cell_type": "code",
   "execution_count": null,
   "id": "ad11bc8a-5fd0-4ed4-bde9-e21c8664e2a5",
   "metadata": {},
   "outputs": [],
   "source": []
  },
  {
   "cell_type": "code",
   "execution_count": 5,
   "id": "7e7a590f-3792-440c-b853-d80ea83ba006",
   "metadata": {
    "tags": []
   },
   "outputs": [],
   "source": [
    "# Save folder \n",
    "save_path = 'N:/RCORBYN/User_Data/20240108_Ximena_cell_tracking/incucyte/Testing/Test 4/Training_ims/'\n",
    "\n",
    "# folders = find_image_folders(images_folder)\n",
    "folders = images_folder\n",
    "# How many frames do I want from the image. \n",
    "num_of_ims = 5\n",
    "\n",
    "# Crop Size \n",
    "crop_size = 100\n",
    "\n",
    "# Loop around the image folders. \n",
    "for i in range(len(folders) ):\n",
    "    # Get the image files. \n",
    "    image_files = find_image_files(folders[i])\n",
    "    \n",
    "    # Import images. \n",
    "    ims = tf.imread(image_files)\n",
    "    \n",
    "    # Crop_limits\n",
    "    crop_limits = [0, ims.shape[1]-crop_size, \n",
    "                   0, ims.shape[2]-crop_size]\n",
    "    \n",
    "    # Get random frames. \n",
    "    rand_frames = np.random.randint(0, ims.shape[0], num_of_ims)\n",
    "    # Get the well number.\n",
    "    well_name = os.path.basename(os.path.dirname(folders[i]))\n",
    "    # Get the plate name. \n",
    "    plate_name = os.path.basename(os.path.dirname(\n",
    "                            os.path.dirname(folders[i])))\n",
    "    \n",
    "    if well_name == 'I10': \n",
    "        continue\n",
    "    else:\n",
    "        # Loop around all image frames\n",
    "        for j in range( len(rand_frames) ):\n",
    "            # Random set of xy co-ordinates that lie within the image. \n",
    "            rand_pos_x = np.random.randint(crop_limits[0], crop_limits[1], 1)\n",
    "            rand_pos_y = np.random.randint(crop_limits[2], crop_limits[3], 1)\n",
    "\n",
    "            # Get the cropped image. \n",
    "            training_images = ims[rand_frames[j], rand_pos_x[0]:rand_pos_x[0]+crop_size, \n",
    "                                  rand_pos_y[0]:rand_pos_y[0]+crop_size]\n",
    "\n",
    "            # Create padded images for the image crop. \n",
    "            training_images = np.pad(training_images, pad_width = 2, mode='constant', constant_values=0)\n",
    "\n",
    "            # # Save training images.\n",
    "            image_number = str(num_of_ims * i + j + 45)\n",
    "            if len(image_number) < 2: \n",
    "                image_number = '0' + image_number\n",
    "\n",
    "            # Save the image. \n",
    "            tf.imwrite(save_path + 'Training_image_' + plate_name + '_' + well_name + '_' \n",
    "                       + image_number + '.tif', training_images) \n",
    "\n",
    "# plot.imshow(training_images)"
   ]
  },
  {
   "cell_type": "code",
   "execution_count": 58,
   "id": "455500d3-2227-46b0-829b-8a8ab3f0eb28",
   "metadata": {
    "tags": []
   },
   "outputs": [
    {
     "data": {
      "text/plain": [
       "['N:/RCORBYN/User_Data/20240108_Ximena_cell_tracking/incucyte/Testing/Test 3\\\\XR175\\\\G11/Colour Channels',\n",
       " 'N:/RCORBYN/User_Data/20240108_Ximena_cell_tracking/incucyte/Testing/Test 3\\\\XR175\\\\H12/Colour Channels',\n",
       " 'N:/RCORBYN/User_Data/20240108_Ximena_cell_tracking/incucyte/Testing/Test 3\\\\XR175\\\\I10/Colour Channels',\n",
       " 'N:/RCORBYN/User_Data/20240108_Ximena_cell_tracking/incucyte/Testing/Test 3\\\\XR176\\\\G11/Colour Channels',\n",
       " 'N:/RCORBYN/User_Data/20240108_Ximena_cell_tracking/incucyte/Testing/Test 3\\\\XR176\\\\H12/Colour Channels',\n",
       " 'N:/RCORBYN/User_Data/20240108_Ximena_cell_tracking/incucyte/Testing/Test 3\\\\XR176\\\\I10/Colour Channels',\n",
       " 'N:/RCORBYN/User_Data/20240108_Ximena_cell_tracking/incucyte/Testing/Test 3\\\\XR181\\\\G11/Colour Channels',\n",
       " 'N:/RCORBYN/User_Data/20240108_Ximena_cell_tracking/incucyte/Testing/Test 3\\\\XR181\\\\H12/Colour Channels',\n",
       " 'N:/RCORBYN/User_Data/20240108_Ximena_cell_tracking/incucyte/Testing/Test 3\\\\XR181\\\\I10/Colour Channels']"
      ]
     },
     "execution_count": 58,
     "metadata": {},
     "output_type": "execute_result"
    }
   ],
   "source": [
    "folders"
   ]
  },
  {
   "cell_type": "code",
   "execution_count": null,
   "id": "990a7b37-5c57-42c9-8818-fb34107e94c2",
   "metadata": {},
   "outputs": [],
   "source": []
  }
 ],
 "metadata": {
  "kernelspec": {
   "display_name": "Python 3 (ipykernel)",
   "language": "python",
   "name": "python3"
  },
  "language_info": {
   "codemirror_mode": {
    "name": "ipython",
    "version": 3
   },
   "file_extension": ".py",
   "mimetype": "text/x-python",
   "name": "python",
   "nbconvert_exporter": "python",
   "pygments_lexer": "ipython3",
   "version": "3.8.13"
  }
 },
 "nbformat": 4,
 "nbformat_minor": 5
}
